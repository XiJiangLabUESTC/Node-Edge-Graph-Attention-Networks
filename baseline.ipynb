{
 "cells": [
  {
   "cell_type": "code",
   "execution_count": 1,
   "metadata": {},
   "outputs": [],
   "source": [
    "import numpy as np\n",
    "import os\n",
    "import time\n",
    "import matplotlib\n",
    "import matplotlib.pyplot as plt\n",
    "import random\n",
    "import pandas as pd\n",
    "import warnings \n",
    "warnings.filterwarnings(\"ignore\")\n",
    "from tqdm.notebook import tqdm\n",
    "cpac_root='/media/dm/0001A094000BF891/Yazid/ABIDEI_CPAC/'\n",
    "smri_root='/media/dm/0001A094000BF891/Yazid/ABIDEI_sMRI/'\n",
    "sites=np.load('DATAARRANGE/train_test_site.npy')\n",
    "train_asd_dict=np.load('DATAARRANGE/train_asd_dict.npy',allow_pickle=True).item()\n",
    "train_tdc_dict=np.load('DATAARRANGE/train_tdc_dict.npy',allow_pickle=True).item()\n",
    "test_asd_dict=np.load('DATAARRANGE/test_asd_dict.npy',allow_pickle=True).item()\n",
    "test_tdc_dict=np.load('DATAARRANGE/test_tdc_dict.npy',allow_pickle=True).item()\n",
    "from sklearn.metrics import accuracy_score\n",
    "from sklearn.metrics import confusion_matrix"
   ]
  },
  {
   "cell_type": "markdown",
   "metadata": {},
   "source": [
    "### DATA"
   ]
  },
  {
   "cell_type": "code",
   "execution_count": 2,
   "metadata": {},
   "outputs": [],
   "source": [
    "def normalized(X):\n",
    "    return (X-X.mean())/X.std()\n",
    "def get_data(cpac_root,smri_root,sites,asd_list,tdc_list):\n",
    "    x=np.zeros((13804))\n",
    "    y=np.zeros((1))\n",
    "    for index in range(len(sites)):\n",
    "        site=sites[index]\n",
    "        asdlist=asd_list[index]\n",
    "        tdclist=tdc_list[index]\n",
    "        \n",
    "        slow5_asd=cpac_root+site+'/group1_slow5/'\n",
    "        slow4_asd=cpac_root+site+'/group1_slow4/'\n",
    "        voxel_asd=smri_root+site+'/group1/'\n",
    "        fc_asd   =cpac_root+site+'/group1_FC/'\n",
    "        for file in asdlist:\n",
    "            fc_data=np.load(fc_asd+file,allow_pickle=True).flatten()\n",
    "            s5_data=normalized(np.load(slow5_asd+file,allow_pickle=True))\n",
    "            s4_data=normalized(np.load(slow4_asd+file,allow_pickle=True))\n",
    "            vl_data=normalized(np.load(voxel_asd+file,allow_pickle=True))\n",
    "            data=np.concatenate((fc_data, s5_data), axis=0)\n",
    "            data=np.concatenate((data,s4_data),axis=0)\n",
    "            data=np.concatenate((data,vl_data),axis=0)\n",
    "            x=np.row_stack((x,data))\n",
    "            y=np.row_stack((y,np.array([1])))\n",
    "            \n",
    "        slow5_tdc=cpac_root+site+'/group2_slow5/'\n",
    "        slow4_tdc=cpac_root+site+'/group2_slow4/'\n",
    "        voxel_tdc=smri_root+site+'/group2/'\n",
    "        fc_tdc   =cpac_root+site+'/group2_FC/'\n",
    "        for file in tdclist:\n",
    "            fc_data=np.load(fc_tdc+file,allow_pickle=True).flatten()\n",
    "            s5_data=normalized(np.load(slow5_tdc+file,allow_pickle=True))\n",
    "            s4_data=normalized(np.load(slow4_tdc+file,allow_pickle=True))\n",
    "            vl_data=normalized(np.load(voxel_tdc+file,allow_pickle=True))\n",
    "            data=np.concatenate((fc_data, s5_data), axis=0)\n",
    "            data=np.concatenate((data,s4_data),axis=0)\n",
    "            data=np.concatenate((data,vl_data),axis=0)\n",
    "            x=np.row_stack((x,data))\n",
    "            y=np.row_stack((y,np.array([2])))\n",
    "    return x[1:,:],y[1:,:]  "
   ]
  },
  {
   "cell_type": "code",
   "execution_count": 3,
   "metadata": {},
   "outputs": [
    {
     "name": "stdout",
     "output_type": "stream",
     "text": [
      "SVM\tAcc: 0.6904392721698117\n",
      "TN:295  |  TP:398  |  FP:186  FN:128\n"
     ]
    }
   ],
   "source": [
    "from sklearn import svm\n",
    "#L_2regularization parameter: 1, RBF kernel and kernel coefficient for RBF used 1 / (n_features * X.var()) as value\n",
    "acc=0\n",
    "TN,FP,FN,TP=0,0,0,0\n",
    "for index in range(10):\n",
    "    train_x,train_y=get_data(cpac_root,smri_root,sites,train_asd_dict[index],train_tdc_dict[index])\n",
    "    test_x,test_y=get_data(cpac_root,smri_root,sites,test_asd_dict[index],test_tdc_dict[index])\n",
    "    clf = svm.SVC()\n",
    "    clf.fit(train_x,train_y)\n",
    "    pred_y=clf.predict(test_x)\n",
    "    acc+=accuracy_score(pred_y,test_y)\n",
    "    tn, fp, fn, tp = confusion_matrix(test_y,pred_y).ravel()\n",
    "    TN+=tn\n",
    "    FP+=fp\n",
    "    FN+=fn\n",
    "    TP+=tp\n",
    "print('SVM\\tAcc: '+str(acc/10))\n",
    "print('TN:%d  |  TP:%d  |  FP:%d  FN:%d'%(TN,TP,FP,FN))"
   ]
  },
  {
   "cell_type": "code",
   "execution_count": 4,
   "metadata": {},
   "outputs": [
    {
     "data": {
      "text/plain": [
       "SVC()"
      ]
     },
     "execution_count": 4,
     "metadata": {},
     "output_type": "execute_result"
    }
   ],
   "source": [
    "clf"
   ]
  },
  {
   "cell_type": "code",
   "execution_count": 4,
   "metadata": {},
   "outputs": [
    {
     "name": "stdout",
     "output_type": "stream",
     "text": [
      "RandomForestClassifier\tAcc: 0.6453366298626709\n",
      "TN:272  |  TP:376  |  FP:209  FN:150\n"
     ]
    }
   ],
   "source": [
    "from sklearn.ensemble import RandomForestClassifier\n",
    "#(200 trees, ‘gini’ function to measure the quality of a split)\n",
    "acc=0\n",
    "TN,FP,FN,TP=0,0,0,0\n",
    "for index in range(10):\n",
    "    train_x,train_y=get_data(cpac_root,smri_root,sites,train_asd_dict[index],train_tdc_dict[index])\n",
    "    test_x,test_y=get_data(cpac_root,smri_root,sites,test_asd_dict[index],test_tdc_dict[index])\n",
    "    clf = RandomForestClassifier(n_estimators=200)\n",
    "    clf.fit(train_x,train_y)\n",
    "    pred_y=clf.predict(test_x)\n",
    "    acc+=accuracy_score(pred_y,test_y)\n",
    "    tn, fp, fn, tp = confusion_matrix(test_y,pred_y).ravel()\n",
    "    TN+=tn\n",
    "    FP+=fp\n",
    "    FN+=fn\n",
    "    TP+=tp\n",
    "print('RandomForestClassifier\\tAcc: '+str(acc/10))\n",
    "print('TN:%d  |  TP:%d  |  FP:%d  FN:%d'%(TN,TP,FP,FN))"
   ]
  },
  {
   "cell_type": "code",
   "execution_count": 5,
   "metadata": {},
   "outputs": [
    {
     "name": "stdout",
     "output_type": "stream",
     "text": [
      "GradientBoostingClassifier\tAcc: 0.667999858771603\n",
      "TN:299  |  TP:372  |  FP:182  FN:154\n"
     ]
    }
   ],
   "source": [
    "from sklearn.ensemble import GradientBoostingClassifier\n",
    "#(the DecisionTreeClassifier as the base estimator, the maximum number of estimators was 200, learning rate was set to 1 and used SAMME.R as the real boosting algorithm)\n",
    "acc=0\n",
    "TN,FP,FN,TP=0,0,0,0\n",
    "for index in range(10):\n",
    "    train_x,train_y=get_data(cpac_root,smri_root,sites,train_asd_dict[index],train_tdc_dict[index])\n",
    "    test_x,test_y=get_data(cpac_root,smri_root,sites,test_asd_dict[index],test_tdc_dict[index])\n",
    "    clf = GradientBoostingClassifier(n_estimators=200) \n",
    "    clf.fit(train_x,train_y)\n",
    "    pred_y=clf.predict(test_x)\n",
    "    acc+=accuracy_score(pred_y,test_y)\n",
    "    tn, fp, fn, tp = confusion_matrix(test_y,pred_y).ravel()\n",
    "    TN+=tn\n",
    "    FP+=fp\n",
    "    FN+=fn\n",
    "    TP+=tp\n",
    "print('GradientBoostingClassifier\\tAcc: '+str(acc/10))\n",
    "print('TN:%d  |  TP:%d  |  FP:%d  FN:%d'%(TN,TP,FP,FN))"
   ]
  },
  {
   "cell_type": "code",
   "execution_count": 6,
   "metadata": {},
   "outputs": [
    {
     "ename": "ValueError",
     "evalue": "Negative values in data passed to MultinomialNB (input X)",
     "output_type": "error",
     "traceback": [
      "\u001b[0;31m---------------------------------------------------------------------------\u001b[0m",
      "\u001b[0;31mValueError\u001b[0m                                Traceback (most recent call last)",
      "\u001b[0;32m<ipython-input-6-018bd9345370>\u001b[0m in \u001b[0;36m<module>\u001b[0;34m\u001b[0m\n\u001b[1;32m      5\u001b[0m     \u001b[0mtest_x\u001b[0m\u001b[0;34m,\u001b[0m\u001b[0mtest_y\u001b[0m\u001b[0;34m=\u001b[0m\u001b[0mget_data\u001b[0m\u001b[0;34m(\u001b[0m\u001b[0mcpac_root\u001b[0m\u001b[0;34m,\u001b[0m\u001b[0msmri_root\u001b[0m\u001b[0;34m,\u001b[0m\u001b[0msites\u001b[0m\u001b[0;34m,\u001b[0m\u001b[0mtest_asd_dict\u001b[0m\u001b[0;34m[\u001b[0m\u001b[0mindex\u001b[0m\u001b[0;34m]\u001b[0m\u001b[0;34m,\u001b[0m\u001b[0mtest_tdc_dict\u001b[0m\u001b[0;34m[\u001b[0m\u001b[0mindex\u001b[0m\u001b[0;34m]\u001b[0m\u001b[0;34m)\u001b[0m\u001b[0;34m\u001b[0m\u001b[0;34m\u001b[0m\u001b[0m\n\u001b[1;32m      6\u001b[0m     \u001b[0mclf\u001b[0m \u001b[0;34m=\u001b[0m \u001b[0mMultinomialNB\u001b[0m\u001b[0;34m(\u001b[0m\u001b[0malpha\u001b[0m\u001b[0;34m=\u001b[0m\u001b[0;36m0.01\u001b[0m\u001b[0;34m)\u001b[0m\u001b[0;34m\u001b[0m\u001b[0;34m\u001b[0m\u001b[0m\n\u001b[0;32m----> 7\u001b[0;31m     \u001b[0mclf\u001b[0m\u001b[0;34m.\u001b[0m\u001b[0mfit\u001b[0m\u001b[0;34m(\u001b[0m\u001b[0mtrain_x\u001b[0m\u001b[0;34m,\u001b[0m\u001b[0mtrain_y\u001b[0m\u001b[0;34m)\u001b[0m\u001b[0;34m\u001b[0m\u001b[0;34m\u001b[0m\u001b[0m\n\u001b[0m\u001b[1;32m      8\u001b[0m     \u001b[0mpred_y\u001b[0m\u001b[0;34m=\u001b[0m\u001b[0mclf\u001b[0m\u001b[0;34m.\u001b[0m\u001b[0mpredict\u001b[0m\u001b[0;34m(\u001b[0m\u001b[0mtest_x\u001b[0m\u001b[0;34m)\u001b[0m\u001b[0;34m\u001b[0m\u001b[0;34m\u001b[0m\u001b[0m\n\u001b[1;32m      9\u001b[0m     \u001b[0macc\u001b[0m\u001b[0;34m+=\u001b[0m\u001b[0maccuracy_score\u001b[0m\u001b[0;34m(\u001b[0m\u001b[0mpred_y\u001b[0m\u001b[0;34m,\u001b[0m\u001b[0mtest_y\u001b[0m\u001b[0;34m)\u001b[0m\u001b[0;34m\u001b[0m\u001b[0;34m\u001b[0m\u001b[0m\n",
      "\u001b[0;32m~/anaconda3/envs/pytorch/lib/python3.8/site-packages/sklearn/naive_bayes.py\u001b[0m in \u001b[0;36mfit\u001b[0;34m(self, X, y, sample_weight)\u001b[0m\n\u001b[1;32m    636\u001b[0m \u001b[0;34m\u001b[0m\u001b[0m\n\u001b[1;32m    637\u001b[0m         \u001b[0mself\u001b[0m\u001b[0;34m.\u001b[0m\u001b[0m_init_counters\u001b[0m\u001b[0;34m(\u001b[0m\u001b[0mn_effective_classes\u001b[0m\u001b[0;34m,\u001b[0m \u001b[0mn_features\u001b[0m\u001b[0;34m)\u001b[0m\u001b[0;34m\u001b[0m\u001b[0;34m\u001b[0m\u001b[0m\n\u001b[0;32m--> 638\u001b[0;31m         \u001b[0mself\u001b[0m\u001b[0;34m.\u001b[0m\u001b[0m_count\u001b[0m\u001b[0;34m(\u001b[0m\u001b[0mX\u001b[0m\u001b[0;34m,\u001b[0m \u001b[0mY\u001b[0m\u001b[0;34m)\u001b[0m\u001b[0;34m\u001b[0m\u001b[0;34m\u001b[0m\u001b[0m\n\u001b[0m\u001b[1;32m    639\u001b[0m         \u001b[0malpha\u001b[0m \u001b[0;34m=\u001b[0m \u001b[0mself\u001b[0m\u001b[0;34m.\u001b[0m\u001b[0m_check_alpha\u001b[0m\u001b[0;34m(\u001b[0m\u001b[0;34m)\u001b[0m\u001b[0;34m\u001b[0m\u001b[0;34m\u001b[0m\u001b[0m\n\u001b[1;32m    640\u001b[0m         \u001b[0mself\u001b[0m\u001b[0;34m.\u001b[0m\u001b[0m_update_feature_log_prob\u001b[0m\u001b[0;34m(\u001b[0m\u001b[0malpha\u001b[0m\u001b[0;34m)\u001b[0m\u001b[0;34m\u001b[0m\u001b[0;34m\u001b[0m\u001b[0m\n",
      "\u001b[0;32m~/anaconda3/envs/pytorch/lib/python3.8/site-packages/sklearn/naive_bayes.py\u001b[0m in \u001b[0;36m_count\u001b[0;34m(self, X, Y)\u001b[0m\n\u001b[1;32m    769\u001b[0m     \u001b[0;32mdef\u001b[0m \u001b[0m_count\u001b[0m\u001b[0;34m(\u001b[0m\u001b[0mself\u001b[0m\u001b[0;34m,\u001b[0m \u001b[0mX\u001b[0m\u001b[0;34m,\u001b[0m \u001b[0mY\u001b[0m\u001b[0;34m)\u001b[0m\u001b[0;34m:\u001b[0m\u001b[0;34m\u001b[0m\u001b[0;34m\u001b[0m\u001b[0m\n\u001b[1;32m    770\u001b[0m         \u001b[0;34m\"\"\"Count and smooth feature occurrences.\"\"\"\u001b[0m\u001b[0;34m\u001b[0m\u001b[0;34m\u001b[0m\u001b[0m\n\u001b[0;32m--> 771\u001b[0;31m         \u001b[0mcheck_non_negative\u001b[0m\u001b[0;34m(\u001b[0m\u001b[0mX\u001b[0m\u001b[0;34m,\u001b[0m \u001b[0;34m\"MultinomialNB (input X)\"\u001b[0m\u001b[0;34m)\u001b[0m\u001b[0;34m\u001b[0m\u001b[0;34m\u001b[0m\u001b[0m\n\u001b[0m\u001b[1;32m    772\u001b[0m         \u001b[0mself\u001b[0m\u001b[0;34m.\u001b[0m\u001b[0mfeature_count_\u001b[0m \u001b[0;34m+=\u001b[0m \u001b[0msafe_sparse_dot\u001b[0m\u001b[0;34m(\u001b[0m\u001b[0mY\u001b[0m\u001b[0;34m.\u001b[0m\u001b[0mT\u001b[0m\u001b[0;34m,\u001b[0m \u001b[0mX\u001b[0m\u001b[0;34m)\u001b[0m\u001b[0;34m\u001b[0m\u001b[0;34m\u001b[0m\u001b[0m\n\u001b[1;32m    773\u001b[0m         \u001b[0mself\u001b[0m\u001b[0;34m.\u001b[0m\u001b[0mclass_count_\u001b[0m \u001b[0;34m+=\u001b[0m \u001b[0mY\u001b[0m\u001b[0;34m.\u001b[0m\u001b[0msum\u001b[0m\u001b[0;34m(\u001b[0m\u001b[0maxis\u001b[0m\u001b[0;34m=\u001b[0m\u001b[0;36m0\u001b[0m\u001b[0;34m)\u001b[0m\u001b[0;34m\u001b[0m\u001b[0;34m\u001b[0m\u001b[0m\n",
      "\u001b[0;32m~/anaconda3/envs/pytorch/lib/python3.8/site-packages/sklearn/utils/validation.py\u001b[0m in \u001b[0;36mcheck_non_negative\u001b[0;34m(X, whom)\u001b[0m\n\u001b[1;32m   1123\u001b[0m \u001b[0;34m\u001b[0m\u001b[0m\n\u001b[1;32m   1124\u001b[0m     \u001b[0;32mif\u001b[0m \u001b[0mX_min\u001b[0m \u001b[0;34m<\u001b[0m \u001b[0;36m0\u001b[0m\u001b[0;34m:\u001b[0m\u001b[0;34m\u001b[0m\u001b[0;34m\u001b[0m\u001b[0m\n\u001b[0;32m-> 1125\u001b[0;31m         \u001b[0;32mraise\u001b[0m \u001b[0mValueError\u001b[0m\u001b[0;34m(\u001b[0m\u001b[0;34m\"Negative values in data passed to %s\"\u001b[0m \u001b[0;34m%\u001b[0m \u001b[0mwhom\u001b[0m\u001b[0;34m)\u001b[0m\u001b[0;34m\u001b[0m\u001b[0;34m\u001b[0m\u001b[0m\n\u001b[0m\u001b[1;32m   1126\u001b[0m \u001b[0;34m\u001b[0m\u001b[0m\n\u001b[1;32m   1127\u001b[0m \u001b[0;34m\u001b[0m\u001b[0m\n",
      "\u001b[0;31mValueError\u001b[0m: Negative values in data passed to MultinomialNB (input X)"
     ]
    }
   ],
   "source": [
    "from sklearn.naive_bayes import MultinomialNB\n",
    "acc=0\n",
    "for index in range(10):\n",
    "    train_x,train_y=get_data(cpac_root,smri_root,sites,train_asd_dict[index],train_tdc_dict[index])\n",
    "    test_x,test_y=get_data(cpac_root,smri_root,sites,test_asd_dict[index],test_tdc_dict[index])\n",
    "    clf = MultinomialNB(alpha=0.01)\n",
    "    clf.fit(train_x,train_y)\n",
    "    pred_y=clf.predict(test_x)\n",
    "    acc+=accuracy_score(pred_y,test_y) \n",
    "print('MultinomialNB\\tAcc: '+str(acc/10))"
   ]
  }
 ],
 "metadata": {
  "kernelspec": {
   "display_name": "Pytorch",
   "language": "python",
   "name": "pytorch"
  },
  "language_info": {
   "codemirror_mode": {
    "name": "ipython",
    "version": 3
   },
   "file_extension": ".py",
   "mimetype": "text/x-python",
   "name": "python",
   "nbconvert_exporter": "python",
   "pygments_lexer": "ipython3",
   "version": "3.6.13"
  },
  "toc-autonumbering": false,
  "toc-showcode": true,
  "toc-showmarkdowntxt": false,
  "toc-showtags": false
 },
 "nbformat": 4,
 "nbformat_minor": 4
}
